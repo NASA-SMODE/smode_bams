{
 "cells": [
  {
   "cell_type": "markdown",
   "id": "a73af2a0-da1d-482e-9d46-74e065fda96b",
   "metadata": {},
   "source": [
    "# Downloading S-MODE data\n",
    "To begin, we'll import necessary libraries and set up the environment for accessing and working with S-MODE data from PODAAC."
   ]
  },
  {
   "cell_type": "code",
   "execution_count": 1,
   "id": "5c34ed29-1aec-4713-aa56-d3f9e30b1e5e",
   "metadata": {},
   "outputs": [],
   "source": [
    "import earthaccess\n",
    "from earthaccess import Auth, Store\n",
    "import xarray as xr\n",
    "import os"
   ]
  },
  {
   "cell_type": "markdown",
   "id": "26921524-f7de-495f-b7ff-a67533708903",
   "metadata": {},
   "source": [
    "# Initializing Authentication and Listing Datasets\n",
    "Next, let's initialize authentication and set up access to PODAAC datasets."
   ]
  },
  {
   "cell_type": "code",
   "execution_count": 2,
   "id": "e8443755-3df0-455b-9084-f9680cbc167a",
   "metadata": {},
   "outputs": [],
   "source": [
    "# Initialize and attempt login\n",
    "auth = Auth()\n",
    "auth.login(strategy=\"netrc\")\n",
    "\n",
    "# Define datasets of interest with their identifiers\n",
    "datasets = {\n",
    "    \"dopplerscatt\": {\n",
    "        \"id\": {\"doi\": \"10.5067/SMODE-DSCT2-V2\"},\n",
    "    },\n",
    "    \"moses\": {\n",
    "        \"id\": {\"doi\": \"10.5067/SMODE-MOSE2\"}\n",
    "    },\n",
    "}"
   ]
  },
  {
   "cell_type": "markdown",
   "id": "3277641b-b921-4ef7-8570-eb4bd0b92ca3",
   "metadata": {},
   "source": [
    "# Data Acquisition: IOP1\n",
    "This section focuses on acquiring data for the first Intensive Observation Period (IOP1) within a specific time range.\n",
    "The code below performs the following tasks:"
   ]
  },
  {
   "cell_type": "code",
   "execution_count": null,
   "id": "36c064cb-4f25-44f0-bc6d-8a21f187626d",
   "metadata": {},
   "outputs": [],
   "source": [
    "# Define the time range for data acquisition\n",
    "time_range = (\"2022-10-24\", \"2022-10-25\") \n",
    "\n",
    "# Create a directory to store the downloaded data if it doesn't already exist\n",
    "if not os.path.exists(f\"../../data/external/dopplerscatt_moses\"):\n",
    "    os.mkdir(f\"../../data/external/dopplerscatt_moses\")\n",
    "\n",
    "# Loop through each dataset of interest\n",
    "for key in datasets:\n",
    "    print(f\"\\n\\n{key}\\n\")\n",
    "    path = f\"../../data/external/dopplerscatt_moses/{key}/\"\n",
    "    \n",
    "    # Create a directory for the current dataset if it doesn't exist\n",
    "    if not os.path.exists(path):\n",
    "        os.mkdir(path)\n",
    "        \n",
    "    # Search for data matching the dataset identifier and specified criteria\n",
    "    results = earthaccess.search_data(\n",
    "        **datasets[key][\"id\"],\n",
    "        cloud_hosted=True,\n",
    "        temporal=time_range\n",
    "    )\n",
    "    \n",
    "    # Initialize a store object for data retrieval\n",
    "    store = Store(auth)\n",
    "    \n",
    "    # Download data files based on the search results and store them in the specified path\n",
    "    files = store.get(results, path)"
   ]
  }
 ],
 "metadata": {
  "kernelspec": {
   "display_name": "coringa",
   "language": "python",
   "name": "coringa"
  },
  "language_info": {
   "codemirror_mode": {
    "name": "ipython",
    "version": 3
   },
   "file_extension": ".py",
   "mimetype": "text/x-python",
   "name": "python",
   "nbconvert_exporter": "python",
   "pygments_lexer": "ipython3",
   "version": "3.9.15"
  }
 },
 "nbformat": 4,
 "nbformat_minor": 5
}
