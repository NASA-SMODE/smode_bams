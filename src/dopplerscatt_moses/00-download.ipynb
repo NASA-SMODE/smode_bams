{
 "cells": [
  {
   "cell_type": "code",
   "execution_count": 1,
   "id": "5c34ed29-1aec-4713-aa56-d3f9e30b1e5e",
   "metadata": {},
   "outputs": [],
   "source": [
    "import earthaccess\n",
    "from earthaccess import Auth, Store\n",
    "import xarray as xr\n",
    "import os"
   ]
  },
  {
   "cell_type": "code",
   "execution_count": 2,
   "id": "e8443755-3df0-455b-9084-f9680cbc167a",
   "metadata": {},
   "outputs": [],
   "source": [
    "# Initialize and attempt login\n",
    "auth = Auth()\n",
    "auth.login(strategy = \"netrc\")\n",
    "\n",
    "\n",
    "datasets = {\n",
    "    \"dopplerscatt\": {\n",
    "        \"id\": {\"doi\": \"10.5067/SMODE-DSCT2-V2\"},#todo\n",
    "    },\n",
    "    \"moses\": {\n",
    "        \"id\": {\"doi\": \"10.5067/SMODE-MOSE2\"}\n",
    "    },\n",
    "}"
   ]
  },
  {
   "cell_type": "code",
   "execution_count": 7,
   "id": "36c064cb-4f25-44f0-bc6d-8a21f187626d",
   "metadata": {},
   "outputs": [
    {
     "name": "stdout",
     "output_type": "stream",
     "text": [
      "\n",
      "\n",
      "dopplerscatt\n",
      "\n",
      "Granules found: 1\n",
      " Getting 1 granules, approx download size: 0.03 GB\n"
     ]
    },
    {
     "data": {
      "application/vnd.jupyter.widget-view+json": {
       "model_id": "7f620532d2c546fa97fb279b498c1633",
       "version_major": 2,
       "version_minor": 0
      },
      "text/plain": [
       "SUBMITTING | :   0%|          | 0/1 [00:00<?, ?it/s]"
      ]
     },
     "metadata": {},
     "output_type": "display_data"
    },
    {
     "data": {
      "application/vnd.jupyter.widget-view+json": {
       "model_id": "0ac6fb41b30d41d3816b449c26172685",
       "version_major": 2,
       "version_minor": 0
      },
      "text/plain": [
       "PROCESSING | :   0%|          | 0/1 [00:00<?, ?it/s]"
      ]
     },
     "metadata": {},
     "output_type": "display_data"
    },
    {
     "data": {
      "application/vnd.jupyter.widget-view+json": {
       "model_id": "2ab40803841c43f8abac1eeb59969fd0",
       "version_major": 2,
       "version_minor": 0
      },
      "text/plain": [
       "COLLECTING | :   0%|          | 0/1 [00:00<?, ?it/s]"
      ]
     },
     "metadata": {},
     "output_type": "display_data"
    },
    {
     "name": "stdout",
     "output_type": "stream",
     "text": [
      "\n",
      "\n",
      "moses\n",
      "\n",
      "Granules found: 12\n",
      " Getting 12 granules, approx download size: 2.26 GB\n"
     ]
    },
    {
     "data": {
      "application/vnd.jupyter.widget-view+json": {
       "model_id": "1d248613910742d8902a860507789eff",
       "version_major": 2,
       "version_minor": 0
      },
      "text/plain": [
       "SUBMITTING | :   0%|          | 0/12 [00:00<?, ?it/s]"
      ]
     },
     "metadata": {},
     "output_type": "display_data"
    },
    {
     "data": {
      "application/vnd.jupyter.widget-view+json": {
       "model_id": "3610743ee57a45509307f94362165028",
       "version_major": 2,
       "version_minor": 0
      },
      "text/plain": [
       "PROCESSING | :   0%|          | 0/12 [00:00<?, ?it/s]"
      ]
     },
     "metadata": {},
     "output_type": "display_data"
    },
    {
     "data": {
      "application/vnd.jupyter.widget-view+json": {
       "model_id": "c5a803eddbf540f2963a41e9b4bdd498",
       "version_major": 2,
       "version_minor": 0
      },
      "text/plain": [
       "COLLECTING | :   0%|          | 0/12 [00:00<?, ?it/s]"
      ]
     },
     "metadata": {},
     "output_type": "display_data"
    }
   ],
   "source": [
    "# IOP1\n",
    "time_range = (\"2022-10-24\", \"2022-10-25\") \n",
    "\n",
    "if not os.path.exists(f\"../../data/external/dopplerscatt_moses\"):\n",
    "    os.mkdir(f\"../../data/external/dopplerscatt_moses\")\n",
    "\n",
    "\n",
    "for key in datasets:\n",
    "    print(f\"\\n\\n{key}\\n\")\n",
    "    path = f\"../../data/external/dopplerscatt_moses/{key}/\"\n",
    "    \n",
    "    if not os.path.exists(path):\n",
    "        os.mkdir(path)\n",
    "        \n",
    "    results = earthaccess.search_data(\n",
    "        **datasets[key][\"id\"],\n",
    "        cloud_hosted = True,\n",
    "        temporal = time_range\n",
    "    )\n",
    "    \n",
    "    # Download data files\n",
    "    store = Store(auth)\n",
    "    files = store.get(results, path)"
   ]
  }
 ],
 "metadata": {
  "kernelspec": {
   "display_name": "coringa",
   "language": "python",
   "name": "coringa"
  },
  "language_info": {
   "codemirror_mode": {
    "name": "ipython",
    "version": 3
   },
   "file_extension": ".py",
   "mimetype": "text/x-python",
   "name": "python",
   "nbconvert_exporter": "python",
   "pygments_lexer": "ipython3",
   "version": "3.9.15"
  }
 },
 "nbformat": 4,
 "nbformat_minor": 5
}
